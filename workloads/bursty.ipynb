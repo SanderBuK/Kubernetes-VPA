{
 "cells": [
  {
   "cell_type": "code",
   "execution_count": null,
   "id": "f87156c7",
   "metadata": {},
   "outputs": [],
   "source": [
    "import time\n",
    "# Run for 5 minutes\n",
    "start = time.time()\n",
    "while (time.time() - start) < 300:\n",
    "    for i in range(30000):\n",
    "        print(i)\n",
    "    time.sleep(20)"
   ]
  }
 ],
 "metadata": {
  "kernelspec": {
   "display_name": "Python 3 (ipykernel)",
   "language": "python",
   "name": "python3"
  },
  "language_info": {
   "codemirror_mode": {
    "name": "ipython",
    "version": 3
   },
   "file_extension": ".py",
   "mimetype": "text/x-python",
   "name": "python",
   "nbconvert_exporter": "python",
   "pygments_lexer": "ipython3",
   "version": "3.9.7"
  }
 },
 "nbformat": 4,
 "nbformat_minor": 5
}
